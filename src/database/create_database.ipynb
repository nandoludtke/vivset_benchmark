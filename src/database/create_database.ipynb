{
 "cells": [
  {
   "cell_type": "code",
   "execution_count": 1,
   "metadata": {},
   "outputs": [],
   "source": [
    "# general\n",
    "import os\n",
    "import sys\n",
    "\n",
    "# custom imports\n",
    "sys.path.insert(0, os.path.dirname(os.getcwd()))\n",
    "from database import LocalDatabase\n",
    "\n",
    "# get workspace directory\n",
    "child_dir = 'src'\n",
    "workspace_dir = os.getcwd()\n",
    "workspace_dir = os.path.sep.join(workspace_dir.split(os.path.sep)[:workspace_dir.split(os.path.sep).index(child_dir)])"
   ]
  },
  {
   "cell_type": "code",
   "execution_count": 2,
   "metadata": {},
   "outputs": [
    {
     "name": "stdout",
     "output_type": "stream",
     "text": [
      "Directories to be added:\n",
      "['c:\\\\Users\\\\haimy\\\\git\\\\digital_twin\\\\environment\\\\icu\\\\contact', 'c:\\\\Users\\\\haimy\\\\git\\\\digital_twin\\\\environment\\\\icu\\\\contact_plus', 'c:\\\\Users\\\\haimy\\\\git\\\\digital_twin\\\\environment\\\\icu\\\\droplet', 'c:\\\\Users\\\\haimy\\\\git\\\\digital_twin\\\\environment\\\\icu\\\\neutropenia', 'c:\\\\Users\\\\haimy\\\\git\\\\digital_twin\\\\environment\\\\labour\\\\contact', 'c:\\\\Users\\\\haimy\\\\git\\\\digital_twin\\\\environment\\\\labour\\\\contact_plus', 'c:\\\\Users\\\\haimy\\\\git\\\\digital_twin\\\\environment\\\\labour\\\\droplet', 'c:\\\\Users\\\\haimy\\\\git\\\\digital_twin\\\\environment\\\\labour\\\\neutropenia', 'c:\\\\Users\\\\haimy\\\\git\\\\digital_twin\\\\environment\\\\surgery\\\\contact', 'c:\\\\Users\\\\haimy\\\\git\\\\digital_twin\\\\environment\\\\surgery\\\\contact_plus', 'c:\\\\Users\\\\haimy\\\\git\\\\digital_twin\\\\environment\\\\surgery\\\\covid', 'c:\\\\Users\\\\haimy\\\\git\\\\digital_twin\\\\environment\\\\surgery\\\\droplet', 'c:\\\\Users\\\\haimy\\\\git\\\\digital_twin\\\\environment\\\\surgery\\\\neutropenia']\n"
     ]
    }
   ],
   "source": [
    "environment_dir = os.path.join(workspace_dir, 'environment')\n",
    "\n",
    "# get image directory list\n",
    "allowed_rooms = ['surgery', 'labour', 'icu']\n",
    "allowed_precautions = ['contact', 'contact_plus', 'droplet', 'neutropenia', 'covid']\n",
    "image_dir_list = []\n",
    "for room_dir in os.listdir(environment_dir):\n",
    "    abs_room_dir = os.path.join(environment_dir, room_dir)\n",
    "    if os.path.isdir(abs_room_dir) and room_dir in allowed_rooms:\n",
    "        for precaution_dir in os.listdir(abs_room_dir):\n",
    "            abs_precaution_dir = os.path.join(abs_room_dir, precaution_dir)\n",
    "            if os.path.isdir(abs_precaution_dir) and precaution_dir in allowed_precautions:\n",
    "                image_dir_list.append(abs_precaution_dir)\n",
    "print(f\"Directories to be added:\\n{image_dir_list}\")"
   ]
  },
  {
   "cell_type": "code",
   "execution_count": 3,
   "metadata": {},
   "outputs": [
    {
     "name": "stdout",
     "output_type": "stream",
     "text": [
      "Collection local_database was found in database.\n",
      "Creating database from c:\\Users\\haimy\\git\\digital_twin\\environment\\icu\\contact\n",
      "Collection local_database was found in database.\n",
      "Creating database from c:\\Users\\haimy\\git\\digital_twin\\environment\\icu\\contact_plus\n",
      "Collection local_database was found in database.\n",
      "Creating database from c:\\Users\\haimy\\git\\digital_twin\\environment\\icu\\droplet\n",
      "Collection local_database was found in database.\n",
      "Creating database from c:\\Users\\haimy\\git\\digital_twin\\environment\\icu\\neutropenia\n",
      "Collection local_database was found in database.\n",
      "Creating database from c:\\Users\\haimy\\git\\digital_twin\\environment\\labour\\contact\n",
      "Collection local_database was found in database.\n",
      "Creating database from c:\\Users\\haimy\\git\\digital_twin\\environment\\labour\\contact_plus\n",
      "Collection local_database was found in database.\n",
      "Creating database from c:\\Users\\haimy\\git\\digital_twin\\environment\\labour\\droplet\n",
      "Collection local_database was found in database.\n",
      "Creating database from c:\\Users\\haimy\\git\\digital_twin\\environment\\labour\\neutropenia\n",
      "Collection local_database was found in database.\n",
      "Creating database from c:\\Users\\haimy\\git\\digital_twin\\environment\\surgery\\contact\n",
      "Collection local_database was found in database.\n",
      "Creating database from c:\\Users\\haimy\\git\\digital_twin\\environment\\surgery\\contact_plus\n",
      "Collection local_database was found in database.\n",
      "Creating database from c:\\Users\\haimy\\git\\digital_twin\\environment\\surgery\\covid\n",
      "Collection local_database was found in database.\n",
      "Creating database from c:\\Users\\haimy\\git\\digital_twin\\environment\\surgery\\droplet\n",
      "Collection local_database was found in database.\n",
      "Creating database from c:\\Users\\haimy\\git\\digital_twin\\environment\\surgery\\neutropenia\n"
     ]
    }
   ],
   "source": [
    "database = LocalDatabase(db_dir=os.path.join(environment_dir, 'db'))\n",
    "database.create_collection_from_image_metadata(\n",
    "    source_dir_list=image_dir_list,\n",
    "    item_state_baseline_path=os.path.join(environment_dir, 'item_state_baseline.json'),\n",
    "    use_labeled=False\n",
    ")"
   ]
  },
  {
   "cell_type": "code",
   "execution_count": null,
   "metadata": {},
   "outputs": [],
   "source": []
  }
 ],
 "metadata": {
  "kernelspec": {
   "display_name": "Python 3",
   "language": "python",
   "name": "python3"
  },
  "language_info": {
   "codemirror_mode": {
    "name": "ipython",
    "version": 3
   },
   "file_extension": ".py",
   "mimetype": "text/x-python",
   "name": "python",
   "nbconvert_exporter": "python",
   "pygments_lexer": "ipython3",
   "version": "3.11.9"
  }
 },
 "nbformat": 4,
 "nbformat_minor": 2
}
